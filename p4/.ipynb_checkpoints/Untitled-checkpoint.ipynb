{
 "cells": [
  {
   "cell_type": "code",
   "execution_count": 1,
   "id": "43f84333",
   "metadata": {},
   "outputs": [],
   "source": [
    "import pandas as pd"
   ]
  },
  {
   "cell_type": "code",
   "execution_count": 9,
   "id": "875247f7",
   "metadata": {},
   "outputs": [],
   "source": [
    "targets = pd.read_csv(\"data/targets.csv\", index_col=\"db_id\")"
   ]
  },
  {
   "cell_type": "code",
   "execution_count": 33,
   "id": "6d527059",
   "metadata": {},
   "outputs": [
    {
     "data": {
      "text/plain": [
       "db_id\n",
       "DB00001                      P00734\n",
       "DB00006                      P00734\n",
       "DB00007                      P30968\n",
       "DB00010                      Q02643\n",
       "DB00014                      P22888\n",
       "                     ...           \n",
       "DB06274                      P35372\n",
       "DB06285                      Q03431\n",
       "DB06287                      P42345\n",
       "DB06288                P14416P35462\n",
       "DB06692    P07477P17538P00747P06870\n",
       "Name: uniprot_accession, Length: 1044, dtype: object"
      ]
     },
     "execution_count": 33,
     "metadata": {},
     "output_type": "execute_result"
    }
   ],
   "source": [
    "targets.groupby(targets.index)[\"uniprot_accession\"]."
   ]
  },
  {
   "cell_type": "code",
   "execution_count": 31,
   "id": "fe2ea2bd",
   "metadata": {},
   "outputs": [
    {
     "data": {
      "text/html": [
       "<div>\n",
       "<style scoped>\n",
       "    .dataframe tbody tr th:only-of-type {\n",
       "        vertical-align: middle;\n",
       "    }\n",
       "\n",
       "    .dataframe tbody tr th {\n",
       "        vertical-align: top;\n",
       "    }\n",
       "\n",
       "    .dataframe thead th {\n",
       "        text-align: right;\n",
       "    }\n",
       "</style>\n",
       "<table border=\"1\" class=\"dataframe\">\n",
       "  <thead>\n",
       "    <tr style=\"text-align: right;\">\n",
       "      <th></th>\n",
       "      <th>uniprot_accession</th>\n",
       "      <th>uniprot_id</th>\n",
       "    </tr>\n",
       "    <tr>\n",
       "      <th>db_id</th>\n",
       "      <th></th>\n",
       "      <th></th>\n",
       "    </tr>\n",
       "  </thead>\n",
       "  <tbody>\n",
       "    <tr>\n",
       "      <th>DB00001</th>\n",
       "      <td>P00734</td>\n",
       "      <td>THRB</td>\n",
       "    </tr>\n",
       "    <tr>\n",
       "      <th>DB00006</th>\n",
       "      <td>P00734</td>\n",
       "      <td>THRB</td>\n",
       "    </tr>\n",
       "    <tr>\n",
       "      <th>DB00007</th>\n",
       "      <td>P30968</td>\n",
       "      <td>GNRHR</td>\n",
       "    </tr>\n",
       "    <tr>\n",
       "      <th>DB00010</th>\n",
       "      <td>Q02643</td>\n",
       "      <td>GHRHR</td>\n",
       "    </tr>\n",
       "    <tr>\n",
       "      <th>DB00014</th>\n",
       "      <td>P22888</td>\n",
       "      <td>LSHR</td>\n",
       "    </tr>\n",
       "    <tr>\n",
       "      <th>...</th>\n",
       "      <td>...</td>\n",
       "      <td>...</td>\n",
       "    </tr>\n",
       "    <tr>\n",
       "      <th>DB06288</th>\n",
       "      <td>P35462</td>\n",
       "      <td>DRD3</td>\n",
       "    </tr>\n",
       "    <tr>\n",
       "      <th>DB06692</th>\n",
       "      <td>P07477</td>\n",
       "      <td>TRY1</td>\n",
       "    </tr>\n",
       "    <tr>\n",
       "      <th>DB06692</th>\n",
       "      <td>P17538</td>\n",
       "      <td>CTRB1</td>\n",
       "    </tr>\n",
       "    <tr>\n",
       "      <th>DB06692</th>\n",
       "      <td>P00747</td>\n",
       "      <td>PLMN</td>\n",
       "    </tr>\n",
       "    <tr>\n",
       "      <th>DB06692</th>\n",
       "      <td>P06870</td>\n",
       "      <td>KLK1</td>\n",
       "    </tr>\n",
       "  </tbody>\n",
       "</table>\n",
       "<p>3259 rows × 2 columns</p>\n",
       "</div>"
      ],
      "text/plain": [
       "        uniprot_accession uniprot_id\n",
       "db_id                               \n",
       "DB00001            P00734       THRB\n",
       "DB00006            P00734       THRB\n",
       "DB00007            P30968      GNRHR\n",
       "DB00010            Q02643      GHRHR\n",
       "DB00014            P22888       LSHR\n",
       "...                   ...        ...\n",
       "DB06288            P35462       DRD3\n",
       "DB06692            P07477       TRY1\n",
       "DB06692            P17538      CTRB1\n",
       "DB06692            P00747       PLMN\n",
       "DB06692            P06870       KLK1\n",
       "\n",
       "[3259 rows x 2 columns]"
      ]
     },
     "execution_count": 31,
     "metadata": {},
     "output_type": "execute_result"
    }
   ],
   "source": [
    "targets"
   ]
  },
  {
   "cell_type": "code",
   "execution_count": null,
   "id": "eee3b807",
   "metadata": {},
   "outputs": [],
   "source": []
  }
 ],
 "metadata": {
  "kernelspec": {
   "display_name": "Python 3",
   "language": "python",
   "name": "python3"
  },
  "language_info": {
   "codemirror_mode": {
    "name": "ipython",
    "version": 3
   },
   "file_extension": ".py",
   "mimetype": "text/x-python",
   "name": "python",
   "nbconvert_exporter": "python",
   "pygments_lexer": "ipython3",
   "version": "3.8.8"
  }
 },
 "nbformat": 4,
 "nbformat_minor": 5
}
