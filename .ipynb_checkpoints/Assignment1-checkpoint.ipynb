{
 "cells": [
  {
   "cell_type": "code",
   "execution_count": 1,
   "id": "173c16c5",
   "metadata": {},
   "outputs": [],
   "source": [
    "import numpy as np\n",
    "import pandas as pd\n",
    "import matplotlib.pyplot as plt"
   ]
  },
  {
   "cell_type": "code",
   "execution_count": 48,
   "id": "f070ccbc",
   "metadata": {},
   "outputs": [],
   "source": [
    "df = pd.read_csv(\"jacques_wines.tsv\", sep=\"\\t\")"
   ]
  },
  {
   "cell_type": "code",
   "execution_count": 104,
   "id": "2cf51779",
   "metadata": {},
   "outputs": [
    {
     "data": {
      "text/plain": [
       "(107,)"
      ]
     },
     "execution_count": 104,
     "metadata": {},
     "output_type": "execute_result"
    }
   ],
   "source": [
    "df[\"variety\"].unique().shape"
   ]
  },
  {
   "cell_type": "code",
   "execution_count": 20,
   "id": "fd02c2c1",
   "metadata": {},
   "outputs": [
    {
     "data": {
      "text/plain": [
       "winery    16\n",
       "Name: Sangiovese, dtype: int64"
      ]
     },
     "execution_count": 20,
     "metadata": {},
     "output_type": "execute_result"
    }
   ],
   "source": [
    "df.groupby([\"variety\"]).count().sort_values([\"winery\"]).iloc[-12]"
   ]
  },
  {
   "cell_type": "code",
   "execution_count": 50,
   "id": "034bfd06",
   "metadata": {},
   "outputs": [],
   "source": [
    "winery_varieties = {i: df[df[\"winery\"] == i].drop_duplicates().shape[0] for i in df[\"winery\"].unique()}"
   ]
  },
  {
   "cell_type": "code",
   "execution_count": 51,
   "id": "79e0dd85",
   "metadata": {},
   "outputs": [
    {
     "data": {
      "text/plain": [
       "'Cono Sur'"
      ]
     },
     "execution_count": 51,
     "metadata": {},
     "output_type": "execute_result"
    }
   ],
   "source": [
    "max(winery_varieties, key=winery_varieties.get)"
   ]
  },
  {
   "cell_type": "code",
   "execution_count": 98,
   "id": "bd018bd3",
   "metadata": {},
   "outputs": [],
   "source": [
    "a = 0.0\n",
    "b = 1.0\n",
    "\n",
    "for i in range(213):\n",
    "    temp = 2 * a + b\n",
    "    a = b\n",
    "    b = temp"
   ]
  },
  {
   "cell_type": "code",
   "execution_count": 99,
   "id": "9d804d10",
   "metadata": {},
   "outputs": [
    {
     "data": {
      "text/plain": [
       "4.38801215285655e+63"
      ]
     },
     "execution_count": 99,
     "metadata": {},
     "output_type": "execute_result"
    }
   ],
   "source": [
    "a"
   ]
  },
  {
   "cell_type": "code",
   "execution_count": 100,
   "id": "ef6b43c5",
   "metadata": {},
   "outputs": [
    {
     "data": {
      "text/plain": [
       "63.64226782170833"
      ]
     },
     "execution_count": 100,
     "metadata": {},
     "output_type": "execute_result"
    }
   ],
   "source": [
    "np.log10(float(a))"
   ]
  },
  {
   "cell_type": "code",
   "execution_count": 78,
   "id": "101aec49",
   "metadata": {},
   "outputs": [],
   "source": [
    "q3_data = pd.read_csv(\"q3_data.csv\")"
   ]
  },
  {
   "cell_type": "code",
   "execution_count": 81,
   "id": "9c0228ef",
   "metadata": {},
   "outputs": [
    {
     "data": {
      "image/png": "[encoded data removed]",
      "text/plain": [
       "<Figure size 432x288 with 1 Axes>"
      ]
     },
     "metadata": {
      "needs_background": "light"
     },
     "output_type": "display_data"
    }
   ],
   "source": [
    "plt.scatter(q3_data.iloc[:,0], q3_data.iloc[:,1])\n",
    "plt.show()"
   ]
  },
  {
   "cell_type": "code",
   "execution_count": 85,
   "id": "6392b030",
   "metadata": {},
   "outputs": [
    {
     "data": {
      "text/plain": [
       "x    16.878390\n",
       "y    45.829233\n",
       "Name: 1000, dtype: float64"
      ]
     },
     "execution_count": 85,
     "metadata": {},
     "output_type": "execute_result"
    }
   ],
   "source": [
    "q3_data.iloc[np.argmax(q3_data.iloc[:,1])]"
   ]
  },
  {
   "cell_type": "code",
   "execution_count": 87,
   "id": "6dfc0ce2",
   "metadata": {},
   "outputs": [
    {
     "data": {
      "text/plain": [
       "(12.804913047600932, 8.015218894267642)"
      ]
     },
     "execution_count": 87,
     "metadata": {},
     "output_type": "execute_result"
    }
   ],
   "source": [
    "np.mean(q3_data[\"y\"]), np.std(q3_data[\"y\"])"
   ]
  },
  {
   "cell_type": "code",
   "execution_count": null,
   "id": "a5c48e1f",
   "metadata": {},
   "outputs": [],
   "source": []
  }
 ],
 "metadata": {
  "kernelspec": {
   "display_name": "Python 3",
   "language": "python",
   "name": "python3"
  },
  "language_info": {
   "codemirror_mode": {
    "name": "ipython",
    "version": 3
   },
   "file_extension": ".py",
   "mimetype": "text/x-python",
   "name": "python",
   "nbconvert_exporter": "python",
   "pygments_lexer": "ipython3",
   "version": "3.8.8"
  }
 },
 "nbformat": 4,
 "nbformat_minor": 5
}
