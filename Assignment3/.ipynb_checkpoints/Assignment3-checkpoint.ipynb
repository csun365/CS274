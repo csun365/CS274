{
 "cells": [
  {
   "cell_type": "code",
   "execution_count": 3,
   "metadata": {},
   "outputs": [],
   "source": [
    "import numpy as np\n",
    "import pandas as pd \n",
    "from sklearn.model_selection import train_test_split\n",
    "from sklearn.naive_bayes import BernoulliNB\n",
    "from sklearn.metrics import confusion_matrix\n",
    "from sklearn.feature_selection import mutual_info_classif\n",
    "import matplotlib.pyplot as plt"
   ]
  },
  {
   "cell_type": "code",
   "execution_count": 26,
   "metadata": {},
   "outputs": [],
   "source": [
    "df = pd.read_csv(\"features.csv\")"
   ]
  },
  {
   "cell_type": "code",
   "execution_count": 27,
   "metadata": {},
   "outputs": [],
   "source": [
    "df = df.replace(\"n\", 0)\n",
    "df = df.replace(\"y\", 1)"
   ]
  },
  {
   "cell_type": "code",
   "execution_count": 29,
   "metadata": {},
   "outputs": [],
   "source": [
    "X_t, X_v, y_t, y_v = train_test_split(df.iloc[:,:-1].values, df.iloc[:,-1].values, test_size=0.2, random_state=1115)"
   ]
  },
  {
   "cell_type": "code",
   "execution_count": 30,
   "metadata": {},
   "outputs": [
    {
     "data": {
      "text/plain": [
       "BernoulliNB()"
      ]
     },
     "execution_count": 30,
     "metadata": {},
     "output_type": "execute_result"
    }
   ],
   "source": [
    "nb = BernoulliNB()\n",
    "nb.fit(X_t, y_t)"
   ]
  },
  {
   "cell_type": "code",
   "execution_count": 31,
   "metadata": {},
   "outputs": [
    {
     "name": "stdout",
     "output_type": "stream",
     "text": [
      "[[10  1]\n",
      " [ 0  8]]\n"
     ]
    }
   ],
   "source": [
    "y_v_pred = nb.predict(X_v)\n",
    "print(confusion_matrix(y_v,y_v_pred))"
   ]
  },
  {
   "cell_type": "code",
   "execution_count": 37,
   "metadata": {},
   "outputs": [],
   "source": [
    "mutual_info = mutual_info_classif(df.iloc[:,:-1].values, df.iloc[:,-1].values, discrete_features=True)"
   ]
  },
  {
   "cell_type": "code",
   "execution_count": 38,
   "metadata": {},
   "outputs": [
    {
     "data": {
      "text/plain": [
       "array([ 0, 50, 45, 55, 40, 60, 35, 65, 70, 25, 23, 75, 21, 20, 85, 71, 86,\n",
       "       91, 10,  5,  6, 15,  2, 19, 42, 12, 57, 32, 87, 52,  3,  7, 63, 67,\n",
       "       82, 39, 69, 27, 68, 37,  4, 48, 98, 97, 43, 77, 92,  8, 64, 53, 49,\n",
       "       29, 14, 81, 80, 76, 90, 24, 30, 66, 62, 22, 16,  1, 41, 95, 96, 61,\n",
       "       56, 28, 79, 89, 73, 33, 94, 31, 46, 88, 93, 26, 74, 11, 54, 78, 72,\n",
       "       83, 51, 36, 44, 84, 58,  9, 99, 59, 47, 38, 34, 13, 17, 18])"
      ]
     },
     "execution_count": 38,
     "metadata": {},
     "output_type": "execute_result"
    }
   ],
   "source": [
    "np.argsort(mutual_info)"
   ]
  },
  {
   "cell_type": "code",
   "execution_count": 34,
   "metadata": {},
   "outputs": [
    {
     "data": {
      "text/plain": [
       "Index(['ASP3', 'ASP2', 'ASN3', 'GLU4', 'GLY3'], dtype='object')"
      ]
     },
     "execution_count": 34,
     "metadata": {},
     "output_type": "execute_result"
    }
   ],
   "source": [
    "df.columns[[18,17,13,34,38]]"
   ]
  },
  {
   "cell_type": "code",
   "execution_count": 35,
   "metadata": {},
   "outputs": [
    {
     "data": {
      "text/plain": [
       "Index(['ALA0', 'ALA1', 'ALA2', 'ALA3', 'ALA4', 'ARG0', 'ARG1', 'ARG2', 'ARG3',\n",
       "       'ARG4',\n",
       "       ...\n",
       "       'TYR1', 'TYR2', 'TYR3', 'TYR4', 'VAL0', 'VAL1', 'VAL2', 'VAL3', 'VAL4',\n",
       "       'SITE'],\n",
       "      dtype='object', length=101)"
      ]
     },
     "execution_count": 35,
     "metadata": {},
     "output_type": "execute_result"
    }
   ],
   "source": [
    "df.columns"
   ]
  },
  {
   "cell_type": "code",
   "execution_count": 51,
   "metadata": {},
   "outputs": [],
   "source": [
    "shell1_cols = [i for i in range(df.columns.shape[0]) if df.columns[i][-1] == \"1\"]\n",
    "shell4_cols = [i for i in range(df.columns.shape[0]) if df.columns[i][-1] == \"4\"]\n",
    "asp_cols = [i for i in range(df.columns.shape[0]) if df.columns[i][:3] == \"ASP\"]\n",
    "cys_cols = [i for i in range(df.columns.shape[0]) if df.columns[i][:3] == \"CYS\"]"
   ]
  },
  {
   "cell_type": "code",
   "execution_count": 48,
   "metadata": {},
   "outputs": [
    {
     "data": {
      "image/png": "[encoded data removed]",
      "text/plain": [
       "<Figure size 432x288 with 1 Axes>"
      ]
     },
     "metadata": {
      "needs_background": "light"
     },
     "output_type": "display_data"
    }
   ],
   "source": [
    "plt.hist(mutual_info[shell1_cols], alpha=0.4)\n",
    "plt.hist(mutual_info[shell4_cols], alpha=0.4)\n",
    "plt.show()"
   ]
  },
  {
   "cell_type": "code",
   "execution_count": 52,
   "metadata": {},
   "outputs": [
    {
     "data": {
      "image/png": "[encoded data removed]",
      "text/plain": [
       "<Figure size 432x288 with 1 Axes>"
      ]
     },
     "metadata": {
      "needs_background": "light"
     },
     "output_type": "display_data"
    }
   ],
   "source": [
    "plt.hist(mutual_info[asp_cols], alpha=0.4)\n",
    "plt.hist(mutual_info[cys_cols], alpha=0.4)\n",
    "plt.show()"
   ]
  },
  {
   "cell_type": "code",
   "execution_count": null,
   "metadata": {},
   "outputs": [],
   "source": []
  },
  {
   "cell_type": "code",
   "execution_count": 32,
   "metadata": {},
   "outputs": [],
   "source": [
    "G_adf = np.array([[0,1,1,0,0,0,0,0,0,0],\n",
    "                  [1,0,0,1,0,0,0,0,0,0],\n",
    "                  [1,0,0,0,1,0,0,0,0,0],\n",
    "                  [0,1,0,0,0,1,0,0,0,0],\n",
    "                  [0,0,1,0,0,1,1,0,0,0],\n",
    "                  [0,0,0,1,1,0,0,1,0,0],\n",
    "                  [0,0,0,0,1,0,0,0,1,0],\n",
    "                  [0,0,0,0,0,1,0,0,0,1],\n",
    "                  [0,0,0,0,0,0,1,0,0,1],\n",
    "                  [0,0,0,0,0,0,0,1,1,0]])"
   ]
  },
  {
   "cell_type": "code",
   "execution_count": 33,
   "metadata": {},
   "outputs": [],
   "source": [
    "G_tilde_adf = np.array([[0,1,1,0,0,0,0,0,0,0],\n",
    "                        [1,0,0,1,0,0,0,0,0,0],\n",
    "                        [1,0,0,0,1,0,0,0,0,0],\n",
    "                        [0,1,0,0,1,0,0,0,0,0],\n",
    "                        [0,0,1,1,0,1,0,0,0,0],\n",
    "                        [0,0,0,0,1,0,1,1,0,0],\n",
    "                        [0,0,0,0,0,1,0,0,1,0],\n",
    "                        [0,0,0,0,0,1,0,0,0,1],\n",
    "                        [0,0,0,0,0,0,1,0,0,1],\n",
    "                        [0,0,0,0,0,0,0,1,1,0]])"
   ]
  },
  {
   "cell_type": "code",
   "execution_count": 50,
   "metadata": {},
   "outputs": [],
   "source": [
    "G_eigenvalues, G_eigenvectors = np.linalg.eig(G_adf)"
   ]
  },
  {
   "cell_type": "code",
   "execution_count": 49,
   "metadata": {},
   "outputs": [
    {
     "data": {
      "text/plain": [
       "array([3.00132741, 3.00132741, 2.77665651, 2.77665651, 2.4333944 ,\n",
       "       2.4333944 , 2.77665651, 2.77665651, 3.00132741, 3.00132741])"
      ]
     },
     "execution_count": 49,
     "metadata": {},
     "output_type": "execute_result"
    }
   ],
   "source": [
    "np.sum(np.abs(G_eigenvectors), axis=1)"
   ]
  },
  {
   "cell_type": "code",
   "execution_count": 36,
   "metadata": {},
   "outputs": [],
   "source": [
    "G_tilde_eigenvalues, G_tilde_eigenvectors = np.linalg.eig(G_tilde_adf)"
   ]
  },
  {
   "cell_type": "code",
   "execution_count": 48,
   "metadata": {},
   "outputs": [
    {
     "data": {
      "text/plain": [
       "array([2.71107913, 2.71107913, 2.73660545, 2.73660545, 2.37367288,\n",
       "       2.37367288, 2.50412021, 2.50412021, 2.55672284, 2.55672284])"
      ]
     },
     "execution_count": 48,
     "metadata": {},
     "output_type": "execute_result"
    }
   ],
   "source": [
    "np.sum(np.abs(G_tilde_eigenvectors), axis=1)"
   ]
  },
  {
   "cell_type": "code",
   "execution_count": 30,
   "metadata": {},
   "outputs": [
    {
     "data": {
      "text/plain": [
       "array([ 2.30277564, -2.30277564,  1.61803399,  1.30277564,  1.        ,\n",
       "        0.61803399, -1.61803399, -0.61803399, -1.        , -1.30277564])"
      ]
     },
     "execution_count": 30,
     "metadata": {},
     "output_type": "execute_result"
    }
   ],
   "source": [
    "G_eigenvalues"
   ]
  },
  {
   "cell_type": "code",
   "execution_count": 31,
   "metadata": {},
   "outputs": [
    {
     "data": {
      "text/plain": [
       "array([-2.11490754, -1.61803399, -1.30277564,  2.30277564,  1.86080585,\n",
       "        0.25410169,  1.        ,  0.61803399, -1.61803399,  0.61803399])"
      ]
     },
     "execution_count": 31,
     "metadata": {},
     "output_type": "execute_result"
    }
   ],
   "source": [
    "G_tilde_eigenvalues"
   ]
  },
  {
   "cell_type": "code",
   "execution_count": 56,
   "metadata": {},
   "outputs": [
    {
     "data": {
      "text/plain": [
       "array([ 3.04781369e+00,  1.08246745e-15,  6.16173779e-15, -1.44328993e-15,\n",
       "        8.16496581e-01, -7.77156117e-16,  9.99200722e-16,  1.11022302e-16,\n",
       "        3.88578059e-16, -2.10154780e-01])"
      ]
     },
     "execution_count": 56,
     "metadata": {},
     "output_type": "execute_result"
    }
   ],
   "source": [
    "np.sum(G_eigenvectors, axis=0)"
   ]
  },
  {
   "cell_type": "code",
   "execution_count": null,
   "metadata": {},
   "outputs": [],
   "source": [
    "3.05, 0, 0, 0, 0.816, 0, 0, 0, 0, -0.21"
   ]
  }
 ],
 "metadata": {
  "kernelspec": {
   "display_name": "Python 3",
   "language": "python",
   "name": "python3"
  },
  "language_info": {
   "codemirror_mode": {
    "name": "ipython",
    "version": 3
   },
   "file_extension": ".py",
   "mimetype": "text/x-python",
   "name": "python",
   "nbconvert_exporter": "python",
   "pygments_lexer": "ipython3",
   "version": "3.8.8"
  }
 },
 "nbformat": 4,
 "nbformat_minor": 2
}
